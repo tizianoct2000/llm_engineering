{
 "cells": [
  {
   "cell_type": "markdown",
   "id": "fe12c203-e6a6-452c-a655-afb8a03a4ff5",
   "metadata": {},
   "source": [
    "# End of week 1 exercise\n",
    "\n",
    "To demonstrate your familiarity with OpenAI API, and also Ollama, build a tool that takes a technical question,  \n",
    "and responds with an explanation. This is a tool that you will be able to use yourself during the course!"
   ]
  },
  {
   "cell_type": "code",
   "execution_count": 1,
   "id": "c1070317-3ed9-4659-abe3-828943230e03",
   "metadata": {},
   "outputs": [],
   "source": [
    "# imports\n",
    "from openai import OpenAI\n",
    "from dotenv import load_dotenv"
   ]
  },
  {
   "cell_type": "code",
   "execution_count": 2,
   "id": "4a456906-915a-4bfd-bb9d-57e505c5093f",
   "metadata": {},
   "outputs": [],
   "source": [
    "# constants\n",
    "\n",
    "MODEL_GPT = 'gpt-4o-mini'\n",
    "MODEL_LLAMA = 'llama3.2'"
   ]
  },
  {
   "cell_type": "code",
   "execution_count": 3,
   "id": "a8d7923c-5f28-4c30-8556-342d7c8497c1",
   "metadata": {},
   "outputs": [],
   "source": [
    "# set up environment\n",
    "import os\n",
    "load_dotenv(override=True)\n",
    "api_key = os.getenv('OPENAI_API_KEY')\n",
    "openai = OpenAI()"
   ]
  },
  {
   "cell_type": "code",
   "execution_count": 4,
   "id": "3f0d0137-52b0-47a8-81a8-11a90a010798",
   "metadata": {},
   "outputs": [],
   "source": [
    "# here is the question; type over this to ask something new\n",
    "\n",
    "usermessage = \"\"\"\n",
    "Please explain what this code does and why:\n",
    "yield from {book.get(\"author\") for book in books if book.get(\"author\")}\n",
    "\"\"\""
   ]
  },
  {
   "cell_type": "code",
   "execution_count": 5,
   "id": "06e3fe79-d02e-45c7-9671-64ec78f483a2",
   "metadata": {},
   "outputs": [],
   "source": [
    "systemmessage='You are an expert python coder assistant'"
   ]
  },
  {
   "cell_type": "code",
   "execution_count": 6,
   "id": "60ce7000-a4a5-4cce-a261-e75ef45063b4",
   "metadata": {},
   "outputs": [],
   "source": [
    "# Get gpt-4o-mini to answer, with streaming\n",
    "message= [{'role':'system','content':systemmessage},\n",
    "         {'role':'user', 'content': usermessage}]"
   ]
  },
  {
   "cell_type": "code",
   "execution_count": 7,
   "id": "e7a0c3c9-04c1-402e-ab3d-8ea8065ba6f2",
   "metadata": {},
   "outputs": [],
   "source": [
    "response = openai.chat.completions.create(model='gpt-4o-mini',\n",
    "                                         messages=message)"
   ]
  },
  {
   "cell_type": "code",
   "execution_count": 8,
   "id": "9a579073-e68e-4e37-ad7a-dac93f77e0a1",
   "metadata": {},
   "outputs": [
    {
     "name": "stdout",
     "output_type": "stream",
     "text": [
      "The code snippet you've provided is a Python expression that uses a combination of a generator function (specifically the `yield` statement) and a set comprehension (`{...}`) to produce a generator of authors from a collection of books. Here’s a detailed breakdown of what it does:\n",
      "\n",
      "1. **Set Comprehension**:\n",
      "   - `{book.get(\"author\") for book in books if book.get(\"author\")}`: This part creates a set of unique author names from the `books` collection.\n",
      "   - `book.get(\"author\")`: For each `book` in the `books` iterable, it attempts to retrieve the value associated with the key `\"author\"`.\n",
      "   - `if book.get(\"author\")`: This filter condition ensures that only books where the `\"author\"` key has a truthy value (not `None`, not an empty string, etc.) are included in the set.\n",
      "   - The result of this set comprehension is a set of authors, eliminating duplicates since sets do not allow repeated values.\n",
      "\n",
      "2. **`yield from`**:\n",
      "   - `yield from`: This is used in generator functions to yield values from another iterable. It allows the generator to produce all the values from the provided iterable (in this case, the set of authors).\n",
      "   - By using `yield from`, the generator can yield each author one by one, which makes it memory efficient compared to returning a list of authors.\n",
      "\n",
      "3. **Complete Context**:\n",
      "   - The entire line would typically be found within a generator function (defining a function that uses the `yield` keyword). When this generator function is called, it will produce an iterator that you can loop through to get each unique author from the provided `books`.\n",
      "\n",
      "### Practical Example\n",
      "Assuming `books` is a list of dictionaries where each dictionary represents a book with various attributes (including \"author\"), this line effectively gathers all unique authors and can be iteratively accessed.\n",
      "  \n",
      "### Summary\n",
      "In short, this code takes a collection of books, extracts the authors (ensuring uniqueness), and provides them one at a time through a generator. This is useful for efficiently handling potentially large datasets where you may not want to load all the authors into memory at once.\n"
     ]
    }
   ],
   "source": [
    "print(response.choices[0].message.content)"
   ]
  },
  {
   "cell_type": "code",
   "execution_count": 9,
   "id": "8f7c8ea8-4082-4ad0-8751-3301adcf6538",
   "metadata": {},
   "outputs": [],
   "source": [
    "# Get Llama 3.2 to answer\n",
    "import ollama"
   ]
  },
  {
   "cell_type": "code",
   "execution_count": 10,
   "id": "64926869-caa8-468c-a43b-b3c68a0b4a07",
   "metadata": {},
   "outputs": [
    {
     "name": "stdout",
     "output_type": "stream",
     "text": [
      "This line of code is using a combination of Python features to generate a sequence of authors from a list of books.\n",
      "\n",
      "Here's a breakdown:\n",
      "\n",
      "- `books`: This is an iterable object (e.g., a list or tuple) containing dictionaries, where each dictionary represents a book.\n",
      "\n",
      "- `book.get(\"author\") for book in books if book.get(\"author\")`: This part uses the `for` loop and conditional statement (`if`) to filter out books that don't have an \"author\" key. If a book has an author, it yields their name (i.e., the value of the \"author\" key).\n",
      "\n",
      "- `{...}`: The curly braces indicate that you're creating an iterator (a generator expression) from the results.\n",
      "\n",
      "So, when we combine all these elements, `yield from {book.get(\"author\") for book in books if book.get(\"author\")}` creates a new iterable object (`an iterator`) that:\n",
      "\n",
      "1. Iterates over each book dictionary in `books`.\n",
      "2. If the \"author\" key exists in the current book, it yields (i.e., returns) the author's name.\n",
      "3. The `yield from` syntax takes this iterator and passes its yielded values to another iterator or a function.\n",
      "\n",
      "In essence, you can use this expression as part of a list comprehension, for example:\n",
      "\n",
      "```python\n",
      "authors = [book.get(\"author\") for book in books if book.get(\"author\")]\n",
      "```\n",
      "\n",
      "However, if the generated sequence is very large, using `yield from` (with an iterable generator expression) might be more memory-efficient than creating a new list.\n",
      "\n",
      "Here's an equivalent but explicit version of this expression:\n",
      "\n",
      "```python\n",
      "def get_authors(books):\n",
      "    for book in books:\n",
      "        if \"author\" in book:\n",
      "            yield book[\"author\"]\n",
      "\n",
      "authors = []\n",
      "for author in get_authors(books):\n",
      "    authors.append(author)\n",
      "```\n",
      "\n",
      "However, this would require storing all the authors in memory, which could be inefficient for large lists of books. The original expression using `yield from` avoids this by generating values on-the-fly as needed.\n"
     ]
    }
   ],
   "source": [
    "response = ollama.chat(model='llama3.2', messages=message)\n",
    "print(response['message']['content'])"
   ]
  },
  {
   "cell_type": "code",
   "execution_count": null,
   "id": "6e6f5221-62d4-4fe6-951b-22eb8e2fc30b",
   "metadata": {},
   "outputs": [],
   "source": []
  }
 ],
 "metadata": {
  "kernelspec": {
   "display_name": "Python 3 (ipykernel)",
   "language": "python",
   "name": "python3"
  },
  "language_info": {
   "codemirror_mode": {
    "name": "ipython",
    "version": 3
   },
   "file_extension": ".py",
   "mimetype": "text/x-python",
   "name": "python",
   "nbconvert_exporter": "python",
   "pygments_lexer": "ipython3",
   "version": "3.11.11"
  }
 },
 "nbformat": 4,
 "nbformat_minor": 5
}
