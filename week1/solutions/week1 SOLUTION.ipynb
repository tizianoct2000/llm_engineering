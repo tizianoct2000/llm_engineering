{
 "cells": [
  {
   "cell_type": "markdown",
   "id": "fe12c203-e6a6-452c-a655-afb8a03a4ff5",
   "metadata": {},
   "source": [
    "# End of week 1 solution\n",
    "\n",
    "To demonstrate your familiarity with OpenAI API, and also Ollama, build a tool that takes a technical question,  \n",
    "and responds with an explanation. This is a tool that you will be able to use yourself during the course!\n",
    "\n",
    "After week 2 you'll be able to add a User Interface to this tool, giving you a valuable application."
   ]
  },
  {
   "cell_type": "code",
   "execution_count": 1,
   "id": "c1070317-3ed9-4659-abe3-828943230e03",
   "metadata": {},
   "outputs": [],
   "source": [
    "# imports\n",
    "\n",
    "from dotenv import load_dotenv\n",
    "from IPython.display import Markdown, display, update_display\n",
    "from openai import OpenAI\n",
    "import ollama"
   ]
  },
  {
   "cell_type": "code",
   "execution_count": 2,
   "id": "4a456906-915a-4bfd-bb9d-57e505c5093f",
   "metadata": {},
   "outputs": [],
   "source": [
    "# constants\n",
    "\n",
    "MODEL_GPT = 'gpt-4o-mini'\n",
    "MODEL_LLAMA = 'llama3.2'"
   ]
  },
  {
   "cell_type": "code",
   "execution_count": 3,
   "id": "a8d7923c-5f28-4c30-8556-342d7c8497c1",
   "metadata": {},
   "outputs": [],
   "source": [
    "# set up environment\n",
    "\n",
    "load_dotenv()\n",
    "openai = OpenAI()\n"
   ]
  },
  {
   "cell_type": "code",
   "execution_count": 4,
   "id": "3f0d0137-52b0-47a8-81a8-11a90a010798",
   "metadata": {},
   "outputs": [
    {
     "name": "stdin",
     "output_type": "stream",
     "text": [
      "Ask me, please Please give me a list of book written by japan author Natsuo Kirino, specifying if there's an English translation\n"
     ]
    },
    {
     "name": "stdout",
     "output_type": "stream",
     "text": [
      "Your question:\n",
      "Please give me a list of book written by japan author Natsuo Kirino, specifying if there's an English translation\n"
     ]
    }
   ],
   "source": [
    "# here is the question; type over this to ask something newTrue\n",
    "while True:\n",
    "    question = input('Ask me, please')\n",
    "    if question != \"\":\n",
    "        break\n",
    "print ('Your question:\\n' + question)\n"
   ]
  },
  {
   "cell_type": "code",
   "execution_count": 5,
   "id": "8595807b-8ae2-4e1b-95d9-e8532142e8bb",
   "metadata": {},
   "outputs": [
    {
     "name": "stdout",
     "output_type": "stream",
     "text": [
      "Default system prompt is:\n",
      "You are a helpful technical tutor who answers questions about python code, software engineering, data science and LLMs\n"
     ]
    },
    {
     "name": "stdin",
     "output_type": "stream",
     "text": [
      "Are you satisfied with standard system_prompt?[default y]/[n] n\n",
      "Type new system prompt You are an expert of Japanese literature\n"
     ]
    },
    {
     "name": "stdout",
     "output_type": "stream",
     "text": [
      "Your new system prompt is:\n",
      "You are an expert of Japanese literature\n"
     ]
    }
   ],
   "source": [
    "# prompts\n",
    "\n",
    "system_prompt = \"You are a helpful technical tutor who answers questions about python code, software engineering, data science and LLMs\"\n",
    "print('Default system prompt is:\\n' + system_prompt)\n",
    "while True:\n",
    "    ask=input('Are you satisfied with standard system_prompt?[default y]/[n]') \n",
    "    if ask != \"n\":\n",
    "        break\n",
    "    new_system_prompt =input('Type new system prompt')\n",
    "    if new_system_prompt != \"\":\n",
    "        system_prompt= new_system_prompt\n",
    "        break\n",
    "print('Your new system prompt is:\\n' + system_prompt)\n",
    "        \n"
   ]
  },
  {
   "cell_type": "code",
   "execution_count": 6,
   "id": "9605cbb6-3d3f-4969-b420-7f4cae0b9328",
   "metadata": {},
   "outputs": [],
   "source": [
    "# messages\n",
    "user_prompt = \"Please give a detailed explanation to the following question: \" + question\n",
    "messages = [\n",
    "    {\"role\": \"system\", \"content\": system_prompt},\n",
    "    {\"role\": \"user\", \"content\": user_prompt}\n",
    "]"
   ]
  },
  {
   "cell_type": "code",
   "execution_count": 7,
   "id": "da54308f-41ec-4653-add1-b258acadd9cc",
   "metadata": {},
   "outputs": [
    {
     "data": {
      "text/plain": [
       "[{'role': 'system', 'content': 'You are an expert of Japanese literature'},\n",
       " {'role': 'user',\n",
       "  'content': \"Please give a detailed explanation to the following question: Please give me a list of book written by japan author Natsuo Kirino, specifying if there's an English translation\"}]"
      ]
     },
     "execution_count": 7,
     "metadata": {},
     "output_type": "execute_result"
    }
   ],
   "source": [
    "messages"
   ]
  },
  {
   "cell_type": "code",
   "execution_count": 9,
   "id": "60ce7000-a4a5-4cce-a261-e75ef45063b4",
   "metadata": {},
   "outputs": [
    {
     "data": {
      "text/markdown": [
       "Natsuo Kirino is a prominent contemporary Japanese author known for her gripping novels, many of which explore themes of crime, gender, and societal issues. Below is a list of her notable works along with information on whether they have been translated into English:\n",
       "\n",
       "1. **Kiriko's Aesthetic (1994)**  \n",
       "   - **Japanese Title:** 鬼子母神 (Kiko Mo Shin)  \n",
       "   - **English Translation:** No  \n",
       "\n",
       "2. **Out (1997)**  \n",
       "   - **Japanese Title:** 鏡の中の女 (Kagami no Naka no Onna)  \n",
       "   - **English Translation:** Yes  \n",
       "   - **Details:** This novel follows a group of women who work at a convenience store and become involved in a shocking crime. It has received critical acclaim for its exploration of the dark side of urban life and female friendship.  \n",
       "\n",
       "3. **Grotesque (2003)**  \n",
       "   - **Japanese Title:** グロテスク (Gurotesuku)  \n",
       "   - **English Translation:** Yes  \n",
       "   - **Details:** This novel tells the story of two women who are inseparable in high school but become estranged as adults. It examines societal expectations and the concept of beauty through the lens of crime and violence.  \n",
       "\n",
       "4. **The Devotion of Suspect X (2005)**  \n",
       "   - **Japanese Title:** 容疑者Xの献身 (Yōgisha Ekkusu no Kenshin)  \n",
       "   - **English Translation:** No  \n",
       "   - **Details:** Although Kirino didn't write this book (it’s by Keigo Higashino), it's worth mentioning as it’s often confused due to the similar genre and popularity in Japanese literature on crime.\n",
       "\n",
       "5. **Real World (2003)**  \n",
       "   - **Japanese Title:** リアルワールド (Riaru Wārudo)  \n",
       "   - **English Translation:** Yes  \n",
       "   - **Details:** This novel follows a group of teenagers who are drawn into a crime involving one of their peers. It provides a chilling perspective on youth and the pressures they face in modern society.  \n",
       "\n",
       "6. **The Lost Name (2006)**  \n",
       "   - **Japanese Title:** 失われた名前 (Ushinawareta Namae)  \n",
       "   - **English Translation:** No  \n",
       "\n",
       "7. **Revenge (2006)**  \n",
       "   - **Japanese Title:** 復讐 (Fukushū)  \n",
       "   - **English Translation:** Yes  \n",
       "   - **Details:** This novel consists of interconnected stories of women seeking revenge for various injustices they have faced, reflecting on themes of vengeance and female empowerment.  \n",
       "\n",
       "8. **The Goddess of Revenge (2009)**  \n",
       "   - **Japanese Title:** 復讐の女神 (Fukushū no Megami)  \n",
       "   - **English Translation:** No  \n",
       "\n",
       "9. **The 40-year-old Virgin (2010)**  \n",
       "   - **Japanese Title:** 40歳のバージン (Yonjū-sai no Bājin)  \n",
       "   - **English Translation:** No  \n",
       "\n",
       "10. **Out of the Silent Planet (2013)**  \n",
       "   - **Japanese Title:** 無声の惑星 (Musei no Wakusei)  \n",
       "   - **English Translation:** No  \n",
       "\n",
       "**Overall Notes:**  \n",
       "Natsuo Kirino remains influential in both Japan and the international literary scene, particularly known for her intricate character studies and her ability to weave societal critique into thrilling narratives. While some of her works have been translated into English, many remain inaccessible to non-Japanese readers, reflecting a growing interest in her writing but also highlighting the ongoing challenges of literary translation in bringing diverse voices to a global audience. \n",
       "\n",
       "For the most current publications and translations, it might be helpful to check publisher websites or literary news sources, as translations can emerge over time."
      ],
      "text/plain": [
       "<IPython.core.display.Markdown object>"
      ]
     },
     "metadata": {},
     "output_type": "display_data"
    }
   ],
   "source": [
    "# Get gpt-4o-mini to answer, with streaming\n",
    "\n",
    "stream= openai.chat.completions.create(model=MODEL_GPT, messages=messages,stream=True)\n",
    "    \n",
    "response = \"\"\n",
    "display_handle = display(Markdown(\"\"), display_id=True)\n",
    "for chunk in stream:\n",
    "    response += chunk.choices[0].delta.content or ''\n",
    "   \n",
    "   \n",
    "    response = response.replace(\"```\",\"\").replace(\"markdown\", \"\")\n",
    "    update_display(Markdown(response), display_id=display_handle.display_id)"
   ]
  },
  {
   "cell_type": "code",
   "execution_count": null,
   "id": "1ef4f598-fb21-4fab-8fff-6d4f000f4cbb",
   "metadata": {},
   "outputs": [],
   "source": [
    "stream\n"
   ]
  },
  {
   "cell_type": "code",
   "execution_count": 8,
   "id": "8f7c8ea8-4082-4ad0-8751-3301adcf6538",
   "metadata": {},
   "outputs": [
    {
     "data": {
      "text/markdown": [
       "Natsuo Kirino is a renowned Japanese novelist known for her thought-provoking and often provocative works that explore complex themes such as identity, morality, and the human condition. Here's a list of some notable books written by Natsuo Kirino, along with information on English translations:\n",
       "\n",
       "1. **Woman** (1997) - English translation: \"The Wedding\" (2004)\n",
       "This novel explores the life of a young woman who takes revenge on her husband for his infidelity. The story delves into themes of love, loyalty, and the consequences of one's actions.\n",
       "2. **Out** (1999) - English translation: \"Out\" (2000)\n",
       "Set in the 1980s, this novel follows a young girl who is born with a rare condition that makes her an outcast among her peers. The story explores themes of identity, acceptance, and the struggles of growing up.\n",
       "3. **Realization of Appreciation** (2002) - English translation: \"The Wedding\" (2015)\n",
       "This novel tells the story of a woman who marries a wealthy man, only to discover that he is emotionally distant and manipulative. The story explores themes of love, desire, and the complexities of human relationships.\n",
       "4. **A Man No More** (2006) - English translation: \"All Along We Know It's You\" (2008)\n",
       "This novel follows a woman who seeks revenge against her husband for his infidelity, but discovers that he is not what she expected. The story explores themes of love, identity, and the complexities of human relationships.\n",
       "5. **Outrage** (2011) - English translation: \"Outrage\" (2013)\n",
       "This novel tells the story of a young woman who becomes involved in a series of gruesome murders with her husband. The story explores themes of love, violence, and the darker aspects of human nature.\n",
       "6. **Midnight Cruise** (2012) - English translation: \"Midnight Cruise\" (2014)\n",
       "Set on a luxury cruise ship, this novel follows the story of a middle-aged woman who becomes involved in a complex web of relationships and desires. The story explores themes of love, identity, and the complexities of human relationships.\n",
       "7. **The Devil's Daughter** (2013) - English translation: \"The Devil's Daughter\" (2015)\n",
       "This novel tells the story of a young woman who is haunted by her dark past and struggles to form meaningful connections with others. The story explores themes of identity, morality, and the complexities of human relationships.\n",
       "8. **Merry-Go-Round** (2014) - English translation: \"Merry-Go-Round\" (2016)\n",
       "This novel follows the story of a woman who returns to her hometown after a long absence and becomes embroiled in a complex web of relationships and desires. The story explores themes of love, identity, and the complexities of human relationships.\n",
       "9. **The Shop** (2015) - English translation: \"The Shop\" (2017)\n",
       "This novel tells the story of a woman who becomes involved in a mysterious antique shop and discovers secrets about her own past. The story explores themes of identity, morality, and the complexities of human relationships.\n",
       "\n",
       "Please note that while some of these novels have been translated into English, not all have been widely available or well-received by publishers. However, many of Kirino's works are highly regarded in Japan and internationally for their thought-provoking exploration of complex themes."
      ],
      "text/plain": [
       "<IPython.core.display.Markdown object>"
      ]
     },
     "metadata": {},
     "output_type": "display_data"
    }
   ],
   "source": [
    "# Get Llama 3.2 to answer\n",
    "\n",
    "response = ollama.chat(model=MODEL_LLAMA, messages=messages)\n",
    "reply = response['message']['content']\n",
    "display(Markdown(reply))"
   ]
  },
  {
   "cell_type": "markdown",
   "id": "7e14bcdb-b928-4b14-961e-9f7d8c7335bf",
   "metadata": {},
   "source": [
    "# Congratulations!\n",
    "\n",
    "You could make it better by taking in the question using  \n",
    "`my_question = input(\"Please enter your question:\")`\n",
    "\n",
    "And then creating the prompts and making the calls interactively."
   ]
  },
  {
   "cell_type": "code",
   "execution_count": null,
   "id": "da663d73-dd2a-4fff-84df-2209cf2b330b",
   "metadata": {},
   "outputs": [],
   "source": []
  }
 ],
 "metadata": {
  "kernelspec": {
   "display_name": "Python 3 (ipykernel)",
   "language": "python",
   "name": "python3"
  },
  "language_info": {
   "codemirror_mode": {
    "name": "ipython",
    "version": 3
   },
   "file_extension": ".py",
   "mimetype": "text/x-python",
   "name": "python",
   "nbconvert_exporter": "python",
   "pygments_lexer": "ipython3",
   "version": "3.11.11"
  }
 },
 "nbformat": 4,
 "nbformat_minor": 5
}
