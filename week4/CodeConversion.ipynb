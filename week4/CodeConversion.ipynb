{
 "cells": [
  {
   "cell_type": "code",
   "execution_count": 1,
   "id": "74cfac98-ccc4-469a-a8c6-363ae41287f0",
   "metadata": {},
   "outputs": [],
   "source": [
    "import os\n",
    "import io\n",
    "import sys\n",
    "from dotenv import load_dotenv\n",
    "from openai import OpenAI\n",
    "import google.generativeai\n",
    "import anthropic\n",
    "from IPython.display import Markdown, display, update_display\n",
    "import gradio as gr\n",
    "import subprocess"
   ]
  },
  {
   "cell_type": "code",
   "execution_count": 3,
   "id": "0bd89d19-812b-4a5e-9222-cb49580ac332",
   "metadata": {},
   "outputs": [],
   "source": [
    "load_dotenv(override=True)\n",
    "os.environ['OPENAI_API_KEY'] = os.getenv('OPENAI_API_KEY')\n",
    "os.environ['ANTHROPIC_API_KEY'] = os.getenv('ANTHROPIC_API_KEY')"
   ]
  },
  {
   "cell_type": "code",
   "execution_count": 5,
   "id": "032cfa61-584a-42e5-88b1-4742012078a1",
   "metadata": {},
   "outputs": [],
   "source": [
    "openai = OpenAI()\n",
    "claude = anthropic.Anthropic()\n",
    "qwencoder= OpenAI(base_url='http://localhost:11434/v1', api_key='ollama')\n",
    "\n",
    "QWENCODER_MODEL = 'ticlazau/qwen2.5-coder-7b-instruct'\n",
    "OPENAI_MODEL = \"gpt-4o-mini\"\n",
    "CLAUDE_MODEL = \"claude-3-haiku-20240307\"\n"
   ]
  },
  {
   "cell_type": "code",
   "execution_count": 6,
   "id": "d148afcf-f9ad-4ba4-8244-f15f28f2e650",
   "metadata": {},
   "outputs": [],
   "source": [
    "sys_msg=\"\"\"\n",
    "You are an assistant that reimplements Python code in high performance C++ for an M1 Mac. \n",
    "Respond only with C++ code; use comments sparingly and do not provide any explanation other than occasional comments. \n",
    "The C++ response needs to produce an identical output in the fastest possible time.\n",
    "\"\"\""
   ]
  },
  {
   "cell_type": "code",
   "execution_count": 7,
   "id": "deb340c4-d87a-4bd3-adfa-2da873529f06",
   "metadata": {},
   "outputs": [],
   "source": [
    "def user_prompt_for( python):\n",
    "    user_prompt = \"Rewrite this Python code in C++ with the fastest possible implementation that produces identical output in the least time. \"\n",
    "    user_prompt += \"Respond only with C++ code; do not explain your work other than a few comments. \"\n",
    "    user_prompt += \"Pay attention to number types to ensure no int overflows. Remember to #include all necessary C++ packages such as iomanip.\\n\\n\"\n",
    "    user_prompt += python\n",
    "    return user_prompt"
   ]
  },
  {
   "cell_type": "code",
   "execution_count": 20,
   "id": "4bf48ffd-d930-4c44-b357-d353c9813ff3",
   "metadata": {},
   "outputs": [],
   "source": [
    "def message_for(python):\n",
    "    messages= [\n",
    "        {'role': 'system', 'content': sys_msg},\n",
    "        {'role':'user', 'content': user_prompt_for(python)}\n",
    "    ]\n",
    "    return messages"
   ]
  },
  {
   "cell_type": "code",
   "execution_count": 9,
   "id": "8e0fb3f3-956d-4475-bc9f-0abe1c5f5299",
   "metadata": {},
   "outputs": [],
   "source": [
    "def write_output(cpp):\n",
    "    code = cpp.replace(\"```cpp\",\"\").replace(\"```\",\"\")\n",
    "    with open(\"optimized.cpp\", \"w\") as f:\n",
    "        f.write(code)"
   ]
  },
  {
   "cell_type": "code",
   "execution_count": 16,
   "id": "4f7b3756-9f5e-4cac-a17c-e374efb712ea",
   "metadata": {},
   "outputs": [],
   "source": [
    "def optimize_gpt(python):    \n",
    "    stream = openai.chat.completions.create(model=OPENAI_MODEL, messages=message_for(python), stream=True)\n",
    "    reply = \"\"\n",
    "    for chunk in stream:\n",
    "        fragment = chunk.choices[0].delta.content or \"\"\n",
    "        reply += fragment\n",
    "        print(fragment, end='', flush=True)\n",
    "    write_output(reply)"
   ]
  },
  {
   "cell_type": "code",
   "execution_count": 17,
   "id": "9012ec56-8118-497e-b239-9b9a102aeb5b",
   "metadata": {},
   "outputs": [],
   "source": [
    "def optimize_claude(python):\n",
    "    result = claude.messages.stream(\n",
    "        model=CLAUDE_MODEL,\n",
    "        max_tokens=2000,\n",
    "        system=system_message,\n",
    "        messages=[{\"role\": \"user\", \"content\": user_prompt_for(python)}],)\n",
    "    reply=''\n",
    "    with result as stream:\n",
    "        for chunk in result.text_stream:\n",
    "            reply += chunk\n",
    "            print(chunk, end='', flush=True)\n",
    "    write_output(reply)"
   ]
  },
  {
   "cell_type": "code",
   "execution_count": 18,
   "id": "e60e7a3b-e920-4780-a20f-d0ff77baad33",
   "metadata": {},
   "outputs": [],
   "source": [
    "def optimize_qwen(python):\n",
    "    stream = qwencoder.chat.completions.create(model = QWENCODER_MODEL, messages= message_for(python), stream=True)\n",
    "    reply=''\n",
    "    for chunk in stream:\n",
    "        fragment= chunk.choices[0].delta.content or ''\n",
    "        reply += fragment\n",
    "        print(fragment, end='', flush=True)\n",
    "    write_output(reply)\n",
    "    "
   ]
  },
  {
   "cell_type": "code",
   "execution_count": 13,
   "id": "e74f19a0-bfe0-4cc7-9c4a-3aaddce91212",
   "metadata": {},
   "outputs": [],
   "source": [
    "pycode = \"\"\"\n",
    "import time\n",
    "\n",
    "def calculate(iterations, param1, param2):\n",
    "    result = 1.0\n",
    "    for i in range(1, iterations+1):\n",
    "        j = i * param1 - param2\n",
    "        result -= (1/j)\n",
    "        j = i * param1 + param2\n",
    "        result += (1/j)\n",
    "    return result\n",
    "\n",
    "start_time = time.time()\n",
    "result = calculate(100_000_000, 4, 1) * 4\n",
    "end_time = time.time()\n",
    "\n",
    "print(f\"Result: {result:.12f}\")\n",
    "print(f\"Execution Time: {(end_time - start_time):.6f} seconds\")\n",
    "\"\"\""
   ]
  },
  {
   "cell_type": "code",
   "execution_count": 14,
   "id": "7d1c059e-dd53-4277-9b07-098861f93724",
   "metadata": {},
   "outputs": [
    {
     "name": "stdout",
     "output_type": "stream",
     "text": [
      "Result: 3.141592658589\n",
      "Execution Time: 17.280430 seconds\n"
     ]
    }
   ],
   "source": [
    "exec(pycode)"
   ]
  },
  {
   "cell_type": "code",
   "execution_count": 21,
   "id": "c0db3d3c-f693-4852-866d-0d7ea503a215",
   "metadata": {},
   "outputs": [
    {
     "name": "stdout",
     "output_type": "stream",
     "text": [
      "```cpp\n",
      "#include <iostream>\n",
      "#include <iomanip>\n",
      "#include <chrono>\n",
      "\n",
      "double calculate(long long iterations, double param1, double param2) {\n",
      "    double result = 1.0;\n",
      "    for (long long i = 1; i <= iterations; ++i) {\n",
      "        double j = i * param1 - param2;\n",
      "        result -= (1.0 / j);\n",
      "        j = i * param1 + param2;\n",
      "        result += (1.0 / j);\n",
      "    }\n",
      "    return result;\n",
      "}\n",
      "\n",
      "int main() {\n",
      "    auto start_time = std::chrono::high_resolution_clock::now();\n",
      "    \n",
      "    double result = calculate(100'000'000, 4.0, 1.0) * 4.0;\n",
      "\n",
      "    auto end_time = std::chrono::high_resolution_clock::now();\n",
      "    std::chrono::duration<double> execution_time = end_time - start_time;\n",
      "\n",
      "    std::cout << std::fixed << std::setprecision(12);\n",
      "    std::cout << \"Result: \" << result << std::endl;\n",
      "    std::cout << \"Execution Time: \" << execution_time.count() << \" seconds\" << std::endl;\n",
      "\n",
      "    return 0;\n",
      "}\n",
      "```"
     ]
    }
   ],
   "source": [
    "optimize_gpt(pycode)"
   ]
  },
  {
   "cell_type": "code",
   "execution_count": 23,
   "id": "59f5ade3-61aa-48a3-8be7-6d7d3a821ddd",
   "metadata": {},
   "outputs": [
    {
     "name": "stdout",
     "output_type": "stream",
     "text": [
      "Result: 3.141592658589\n",
      "Execution Time: 17.876939 seconds\n"
     ]
    }
   ],
   "source": [
    "exec(pycode)"
   ]
  },
  {
   "cell_type": "code",
   "execution_count": null,
   "id": "7d1111f0-768f-4885-b5cc-b9fbdc17f96f",
   "metadata": {},
   "outputs": [],
   "source": []
  }
 ],
 "metadata": {
  "kernelspec": {
   "display_name": "Python 3 (ipykernel)",
   "language": "python",
   "name": "python3"
  },
  "language_info": {
   "codemirror_mode": {
    "name": "ipython",
    "version": 3
   },
   "file_extension": ".py",
   "mimetype": "text/x-python",
   "name": "python",
   "nbconvert_exporter": "python",
   "pygments_lexer": "ipython3",
   "version": "3.11.11"
  }
 },
 "nbformat": 4,
 "nbformat_minor": 5
}
