{
 "cells": [
  {
   "cell_type": "code",
   "execution_count": 1,
   "id": "acb33b8b-3523-42d7-b656-67b63f811730",
   "metadata": {},
   "outputs": [],
   "source": [
    "def force_dark_mode_gradio():\n",
    "    dark_mode = \"\"\"\n",
    "function refresh() {\n",
    "    const url = new URL(window.location);\n",
    "    if (url.searchParams.get('__theme') !== 'dark') {\n",
    "        url.searchParams.set('__theme', 'dark');\n",
    "        window.location.href = url.href;\n",
    "    }\n",
    "}\n",
    "\"\"\"\n",
    "    return dark_mode"
   ]
  },
  {
   "cell_type": "code",
   "execution_count": 1,
   "id": "74658f53-d84b-40d4-b714-81f8d2017370",
   "metadata": {},
   "outputs": [],
   "source": [
    "def sharedLink(linkType):\n",
    "    if linkType == 'database':    \n",
    "        #link='https://docs.google.com/spreadsheets/d/1VktM0GpR7qjdiWXvhHUF3_xYdJFWiT9g/edit?usp=sharing&ouid=116595599963780522409&rtpof=true&sd=true'\n",
    "        link='boardgames_rank.csv'\n",
    "    elif linkType=='geek':\n",
    "        link='https://boardgamegeek.com/'\n",
    "    else:\n",
    "        link =None\n",
    "    return link"
   ]
  },
  {
   "cell_type": "code",
   "execution_count": null,
   "id": "f015762e-2547-4f5c-a0c6-959dee5bf240",
   "metadata": {},
   "outputs": [],
   "source": []
  }
 ],
 "metadata": {
  "kernelspec": {
   "display_name": "Python 3 (ipykernel)",
   "language": "python",
   "name": "python3"
  },
  "language_info": {
   "codemirror_mode": {
    "name": "ipython",
    "version": 3
   },
   "file_extension": ".py",
   "mimetype": "text/x-python",
   "name": "python",
   "nbconvert_exporter": "python",
   "pygments_lexer": "ipython3",
   "version": "3.11.11"
  }
 },
 "nbformat": 4,
 "nbformat_minor": 5
}
